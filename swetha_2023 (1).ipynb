{
 "cells": [
  {
   "cell_type": "code",
   "execution_count": 1,
   "id": "ee300b2d",
   "metadata": {},
   "outputs": [
    {
     "name": "stdout",
     "output_type": "stream",
     "text": [
      "\n"
     ]
    }
   ],
   "source": [
    "\n",
    "\n",
    "print()"
   ]
  },
  {
   "cell_type": "code",
   "execution_count": 3,
   "id": "bf65e863",
   "metadata": {},
   "outputs": [
    {
     "name": "stdout",
     "output_type": "stream",
     "text": [
      "10\n"
     ]
    }
   ],
   "source": [
    "a=10\n",
    "if a==10:\n",
    "    print(a)"
   ]
  },
  {
   "cell_type": "markdown",
   "id": "f32276aa",
   "metadata": {},
   "source": [
    "a=10\n",
    "b=20\n",
    "if a>b:\n",
    "     print(\"a is grt than b\")\n",
    "elif b>a:\n",
    "print(\"b is grt than a\")\n",
    "\n",
    "\n",
    "\n",
    "\n"
   ]
  },
  {
   "cell_type": "code",
   "execution_count": 4,
   "id": "328227b0",
   "metadata": {},
   "outputs": [
    {
     "name": "stdout",
     "output_type": "stream",
     "text": [
      "b is grt than a\n"
     ]
    }
   ],
   "source": [
    "a=10\n",
    "b=20\n",
    "if a>b:\n",
    "    print(\"a is grt than b\")\n",
    "elif b>a:\n",
    "    print(\"b is grt than a\")\n",
    "    "
   ]
  },
  {
   "cell_type": "code",
   "execution_count": 5,
   "id": "a7d4e720",
   "metadata": {},
   "outputs": [
    {
     "name": "stdout",
     "output_type": "stream",
     "text": [
      "1010\n"
     ]
    }
   ],
   "source": [
    "number=10\n",
    "a=f'{number:b}'\n",
    "print(a)\n",
    "\n",
    "     "
   ]
  },
  {
   "cell_type": "code",
   "execution_count": 12,
   "id": "5f2a785a",
   "metadata": {},
   "outputs": [
    {
     "name": "stdout",
     "output_type": "stream",
     "text": [
      "11110\n"
     ]
    }
   ],
   "source": [
    "number2=30\n",
    "b=f'{number2:0b}'\n",
    "print(b)"
   ]
  },
  {
   "cell_type": "markdown",
   "id": "749d9034",
   "metadata": {},
   "source": []
  },
  {
   "cell_type": "raw",
   "id": "9891746d",
   "metadata": {},
   "source": []
  },
  {
   "cell_type": "code",
   "execution_count": 8,
   "id": "7ff08b57",
   "metadata": {},
   "outputs": [
    {
     "name": "stdout",
     "output_type": "stream",
     "text": [
      "0000011110\n"
     ]
    }
   ],
   "source": [
    "number3=30\n",
    "c=f'{number3:010b}'\n",
    "print(c)"
   ]
  },
  {
   "cell_type": "markdown",
   "id": "f956268f",
   "metadata": {},
   "source": [
    "# and or opertion"
   ]
  },
  {
   "cell_type": "code",
   "execution_count": 15,
   "id": "cef50203",
   "metadata": {},
   "outputs": [
    {
     "name": "stdout",
     "output_type": "stream",
     "text": [
      "10\n"
     ]
    }
   ],
   "source": [
    "a=10\n",
    "b=20\n",
    "if a == 10 or a==20:\n",
    "    print(a)"
   ]
  },
  {
   "cell_type": "code",
   "execution_count": 16,
   "id": "bc12e3ea",
   "metadata": {},
   "outputs": [],
   "source": [
    "if a ==10 and a ==20:\n",
    "    print(a)"
   ]
  },
  {
   "cell_type": "markdown",
   "id": "a23ea89a",
   "metadata": {},
   "source": [
    "# calculator"
   ]
  },
  {
   "cell_type": "code",
   "execution_count": 26,
   "id": "bf4e1964",
   "metadata": {},
   "outputs": [
    {
     "name": "stdout",
     "output_type": "stream",
     "text": [
      "enter a value5\n",
      "enter b value5\n",
      "enter a opertion,('+','-','*','/','//','%')+\n",
      "here we are performing addtion opertion 10\n"
     ]
    }
   ],
   "source": [
    "a=int(input(\"enter a value\"))\n",
    "b=int(input(\"enter b value\"))\n",
    "opertions=input(\"enter a opertion,('+','-','*','/','//','%')\")\n",
    "\n",
    "if opertions == \"+\":\n",
    "     print(\"here we are performing addtion opertion\",a+b)\n",
    "elif opertions == \"-\":\n",
    "     print(\"here we are performing substraction opertion\",a-b)\n",
    "elif opertions == \"*\":\n",
    "     print(\"here we are performing multiplication opertion\",a*b)\n",
    "elif opertions == \"/\":\n",
    "     print(\"here we are performing division opertion\",a/b)\n",
    "elif opertions == \"//\":\n",
    "     print(\"here we are performing division opertion without decimal point\",a//b)\n",
    "elif opertions == \"%\":\n",
    "     print(\"here we are performing modular opertion without decimal point\",a%b)\n",
    "else:\n",
    "     print(\"print enter the valid opertion\")"
   ]
  },
  {
   "cell_type": "code",
   "execution_count": null,
   "id": "79c5f2d0",
   "metadata": {},
   "outputs": [],
   "source": []
  }
 ],
 "metadata": {
  "kernelspec": {
   "display_name": "Python 3 (ipykernel)",
   "language": "python",
   "name": "python3"
  },
  "language_info": {
   "codemirror_mode": {
    "name": "ipython",
    "version": 3
   },
   "file_extension": ".py",
   "mimetype": "text/x-python",
   "name": "python",
   "nbconvert_exporter": "python",
   "pygments_lexer": "ipython3",
   "version": "3.10.9"
  }
 },
 "nbformat": 4,
 "nbformat_minor": 5
}
