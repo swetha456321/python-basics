{
 "cells": [
  {
   "cell_type": "code",
   "execution_count": 1,
   "id": "47c3647d",
   "metadata": {},
   "outputs": [],
   "source": [
    "bacon=22"
   ]
  },
  {
   "cell_type": "code",
   "execution_count": 2,
   "id": "1f0d53ba",
   "metadata": {},
   "outputs": [
    {
     "data": {
      "text/plain": [
       "23"
      ]
     },
     "execution_count": 2,
     "metadata": {},
     "output_type": "execute_result"
    }
   ],
   "source": [
    "bacon+1"
   ]
  },
  {
   "cell_type": "code",
   "execution_count": 3,
   "id": "ffe481ef",
   "metadata": {},
   "outputs": [
    {
     "data": {
      "text/plain": [
       "'spamspamspam'"
      ]
     },
     "execution_count": 3,
     "metadata": {},
     "output_type": "execute_result"
    }
   ],
   "source": [
    "'spam'+'spamspam'\n",
    "\n"
   ]
  },
  {
   "cell_type": "code",
   "execution_count": 4,
   "id": "bae40a6e",
   "metadata": {},
   "outputs": [
    {
     "data": {
      "text/plain": [
       "'spamspamspam'"
      ]
     },
     "execution_count": 4,
     "metadata": {},
     "output_type": "execute_result"
    }
   ],
   "source": [
    "'spam'*3"
   ]
  },
  {
   "cell_type": "code",
   "execution_count": 5,
   "id": "3414fc9a",
   "metadata": {},
   "outputs": [
    {
     "data": {
      "text/plain": [
       "'i have eaten99burritos'"
      ]
     },
     "execution_count": 5,
     "metadata": {},
     "output_type": "execute_result"
    }
   ],
   "source": [
    "'i have eaten'+'99'+'burritos'"
   ]
  },
  {
   "cell_type": "code",
   "execution_count": null,
   "id": "8b435e2c",
   "metadata": {},
   "outputs": [],
   "source": [
    "* is expression"
   ]
  },
  {
   "cell_type": "code",
   "execution_count": null,
   "id": "dd488c47",
   "metadata": {},
   "outputs": [],
   "source": [
    "'hello's str"
   ]
  },
  {
   "cell_type": "code",
   "execution_count": null,
   "id": "23e89e9d",
   "metadata": {},
   "outputs": [],
   "source": [
    "-87.8 is int"
   ]
  },
  {
   "cell_type": "code",
   "execution_count": null,
   "id": "563d1ea6",
   "metadata": {},
   "outputs": [],
   "source": [
    "-,/,+ is expression"
   ]
  },
  {
   "cell_type": "code",
   "execution_count": null,
   "id": "97b6d631",
   "metadata": {},
   "outputs": [],
   "source": [
    "6 is int"
   ]
  },
  {
   "cell_type": "code",
   "execution_count": null,
   "id": "c587e25b",
   "metadata": {},
   "outputs": [],
   "source": [
    "varibles stires data while str is a word quoted in single or double quotation marks"
   ]
  },
  {
   "cell_type": "code",
   "execution_count": null,
   "id": "cd96821a",
   "metadata": {},
   "outputs": [],
   "source": [
    "data types are numeical, arthematic, categorical"
   ]
  },
  {
   "cell_type": "code",
   "execution_count": null,
   "id": "01292c40",
   "metadata": {},
   "outputs": [],
   "source": [
    "bacon=22"
   ]
  },
  {
   "cell_type": "code",
   "execution_count": 7,
   "id": "af60bed0",
   "metadata": {
    "scrolled": true
   },
   "outputs": [
    {
     "name": "stdout",
     "output_type": "stream",
     "text": [
      "23\n"
     ]
    }
   ],
   "source": [
    "print(bacon+1)"
   ]
  },
  {
   "cell_type": "code",
   "execution_count": 8,
   "id": "19245667",
   "metadata": {},
   "outputs": [
    {
     "data": {
      "text/plain": [
       "'spamspamspam'"
      ]
     },
     "execution_count": 8,
     "metadata": {},
     "output_type": "execute_result"
    }
   ],
   "source": [
    "'spam'+'spamspam'"
   ]
  },
  {
   "cell_type": "code",
   "execution_count": 9,
   "id": "42d469e6",
   "metadata": {},
   "outputs": [
    {
     "data": {
      "text/plain": [
       "'spamspamspam'"
      ]
     },
     "execution_count": 9,
     "metadata": {},
     "output_type": "execute_result"
    }
   ],
   "source": [
    "'spam'*3"
   ]
  },
  {
   "cell_type": "code",
   "execution_count": null,
   "id": "88642d08",
   "metadata": {},
   "outputs": [],
   "source": [
    "varible name cannot begin with number"
   ]
  },
  {
   "cell_type": "code",
   "execution_count": 10,
   "id": "fb958d1c",
   "metadata": {},
   "outputs": [
    {
     "data": {
      "text/plain": [
       "'i have eaten99burritos'"
      ]
     },
     "execution_count": 10,
     "metadata": {},
     "output_type": "execute_result"
    }
   ],
   "source": [
    "'i have eaten'+'99'+'burritos'"
   ]
  },
  {
   "cell_type": "code",
   "execution_count": null,
   "id": "c408e637",
   "metadata": {},
   "outputs": [],
   "source": []
  },
  {
   "cell_type": "markdown",
   "id": "5b256594",
   "metadata": {},
   "source": []
  }
 ],
 "metadata": {
  "kernelspec": {
   "display_name": "Python 3 (ipykernel)",
   "language": "python",
   "name": "python3"
  },
  "language_info": {
   "codemirror_mode": {
    "name": "ipython",
    "version": 3
   },
   "file_extension": ".py",
   "mimetype": "text/x-python",
   "name": "python",
   "nbconvert_exporter": "python",
   "pygments_lexer": "ipython3",
   "version": "3.10.9"
  }
 },
 "nbformat": 4,
 "nbformat_minor": 5
}
