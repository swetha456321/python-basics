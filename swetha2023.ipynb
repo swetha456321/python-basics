{
 "cells": [
  {
   "cell_type": "code",
   "execution_count": 1,
   "id": "7328a81a",
   "metadata": {},
   "outputs": [],
   "source": [
    "strings=\"swetha\",\"car\",\"holiday\",\"bike\",\"collage\""
   ]
  },
  {
   "cell_type": "code",
   "execution_count": 2,
   "id": "688931d4",
   "metadata": {},
   "outputs": [
    {
     "data": {
      "text/plain": [
       "('swetha', 'car', 'holiday', 'bike', 'collage')"
      ]
     },
     "execution_count": 2,
     "metadata": {},
     "output_type": "execute_result"
    }
   ],
   "source": [
    "strings"
   ]
  },
  {
   "cell_type": "code",
   "execution_count": 3,
   "id": "b6914261",
   "metadata": {},
   "outputs": [
    {
     "name": "stdout",
     "output_type": "stream",
     "text": [
      "('swetha', 'car', 'holiday', 'bike', 'collage')\n"
     ]
    }
   ],
   "source": [
    "print (strings)"
   ]
  },
  {
   "cell_type": "code",
   "execution_count": 4,
   "id": "d82ba94d",
   "metadata": {},
   "outputs": [
    {
     "name": "stdout",
     "output_type": "stream",
     "text": [
      "swetha\n"
     ]
    }
   ],
   "source": [
    "print(\"swetha\")"
   ]
  },
  {
   "cell_type": "code",
   "execution_count": 5,
   "id": "2e7f0e58",
   "metadata": {},
   "outputs": [
    {
     "name": "stdout",
     "output_type": "stream",
     "text": [
      "bullet\n"
     ]
    }
   ],
   "source": [
    "print(\"bullet\")"
   ]
  },
  {
   "cell_type": "code",
   "execution_count": 6,
   "id": "86e71d68",
   "metadata": {},
   "outputs": [
    {
     "name": "stdout",
     "output_type": "stream",
     "text": [
      "sun\n"
     ]
    }
   ],
   "source": [
    "print(\"sun\")"
   ]
  },
  {
   "cell_type": "code",
   "execution_count": 7,
   "id": "a4a0a4b8",
   "metadata": {},
   "outputs": [
    {
     "name": "stdout",
     "output_type": "stream",
     "text": [
      "kia\n"
     ]
    }
   ],
   "source": [
    "print(\"kia\")"
   ]
  },
  {
   "cell_type": "code",
   "execution_count": 8,
   "id": "c388f217",
   "metadata": {},
   "outputs": [
    {
     "name": "stdout",
     "output_type": "stream",
     "text": [
      "motor\n"
     ]
    }
   ],
   "source": [
    "print(\"motor\")"
   ]
  },
  {
   "cell_type": "code",
   "execution_count": 9,
   "id": "e8823b44",
   "metadata": {
    "scrolled": true
   },
   "outputs": [
    {
     "name": "stdout",
     "output_type": "stream",
     "text": [
      "monday\n"
     ]
    }
   ],
   "source": [
    "print(\"monday\")"
   ]
  },
  {
   "cell_type": "code",
   "execution_count": 1,
   "id": "50c0f335",
   "metadata": {},
   "outputs": [
    {
     "name": "stdout",
     "output_type": "stream",
     "text": [
      "rose\n"
     ]
    }
   ],
   "source": [
    "print(\"rose\")"
   ]
  },
  {
   "cell_type": "code",
   "execution_count": 11,
   "id": "54e6d9dc",
   "metadata": {},
   "outputs": [],
   "source": [
    "s=(1,2,3,4,5)"
   ]
  },
  {
   "cell_type": "code",
   "execution_count": 12,
   "id": "8a609685",
   "metadata": {},
   "outputs": [
    {
     "data": {
      "text/plain": [
       "(1, 2, 3, 4, 5)"
      ]
     },
     "execution_count": 12,
     "metadata": {},
     "output_type": "execute_result"
    }
   ],
   "source": [
    "s"
   ]
  },
  {
   "cell_type": "code",
   "execution_count": 13,
   "id": "2454e181",
   "metadata": {},
   "outputs": [],
   "source": [
    "s1=('swetha','car','bike','book','collage')\n",
    "   \n"
   ]
  },
  {
   "cell_type": "code",
   "execution_count": 15,
   "id": "1a1a9729",
   "metadata": {},
   "outputs": [
    {
     "data": {
      "text/plain": [
       "'bike'"
      ]
     },
     "execution_count": 15,
     "metadata": {},
     "output_type": "execute_result"
    }
   ],
   "source": [
    "s1[2]\n"
   ]
  },
  {
   "cell_type": "markdown",
   "id": "5e0c5053",
   "metadata": {},
   "source": [
    "s1[3]\n"
   ]
  },
  {
   "cell_type": "code",
   "execution_count": 18,
   "id": "890c299f",
   "metadata": {},
   "outputs": [],
   "source": [
    "s2=(\"student\",\"audi\",\"classmate\",\"keshav\")"
   ]
  },
  {
   "cell_type": "markdown",
   "id": "271acf37",
   "metadata": {},
   "source": [
    "s2[2]"
   ]
  },
  {
   "cell_type": "markdown",
   "id": "66f1691f",
   "metadata": {},
   "source": []
  },
  {
   "cell_type": "code",
   "execution_count": 1,
   "id": "35a44e13",
   "metadata": {},
   "outputs": [],
   "source": [
    "swetha=(\"iam swetha from hyderabad and i stay in ghode ki khabar\")"
   ]
  },
  {
   "cell_type": "code",
   "execution_count": 2,
   "id": "8b001033",
   "metadata": {},
   "outputs": [
    {
     "name": "stdout",
     "output_type": "stream",
     "text": [
      "iam swetha from hyderabad and i stay in ghode ki khabar\n"
     ]
    }
   ],
   "source": [
    "print(swetha)"
   ]
  },
  {
   "cell_type": "code",
   "execution_count": 3,
   "id": "30d32a24",
   "metadata": {},
   "outputs": [
    {
     "data": {
      "text/plain": [
       "'a'"
      ]
     },
     "execution_count": 3,
     "metadata": {},
     "output_type": "execute_result"
    }
   ],
   "source": [
    "swetha[1]"
   ]
  },
  {
   "cell_type": "code",
   "execution_count": 4,
   "id": "ddbe4087",
   "metadata": {},
   "outputs": [
    {
     "data": {
      "text/plain": [
       "'f'"
      ]
     },
     "execution_count": 4,
     "metadata": {},
     "output_type": "execute_result"
    }
   ],
   "source": [
    "swetha[11]"
   ]
  },
  {
   "cell_type": "code",
   "execution_count": 5,
   "id": "3e6e29ba",
   "metadata": {},
   "outputs": [
    {
     "data": {
      "text/plain": [
       "' '"
      ]
     },
     "execution_count": 5,
     "metadata": {},
     "output_type": "execute_result"
    }
   ],
   "source": [
    "swetha[15]"
   ]
  },
  {
   "cell_type": "code",
   "execution_count": 6,
   "id": "38cc08e5",
   "metadata": {},
   "outputs": [
    {
     "data": {
      "text/plain": [
       "'d'"
      ]
     },
     "execution_count": 6,
     "metadata": {},
     "output_type": "execute_result"
    }
   ],
   "source": [
    "swetha[24]"
   ]
  },
  {
   "cell_type": "code",
   "execution_count": 7,
   "id": "8829b65c",
   "metadata": {},
   "outputs": [
    {
     "data": {
      "text/plain": [
       "'r'"
      ]
     },
     "execution_count": 7,
     "metadata": {},
     "output_type": "execute_result"
    }
   ],
   "source": [
    "swetha[-1]"
   ]
  },
  {
   "cell_type": "code",
   "execution_count": 8,
   "id": "ca5dc963",
   "metadata": {},
   "outputs": [
    {
     "data": {
      "text/plain": [
       "'a'"
      ]
     },
     "execution_count": 8,
     "metadata": {},
     "output_type": "execute_result"
    }
   ],
   "source": [
    "swetha[-4]"
   ]
  },
  {
   "cell_type": "code",
   "execution_count": 9,
   "id": "c0241627",
   "metadata": {},
   "outputs": [
    {
     "data": {
      "text/plain": [
       "' '"
      ]
     },
     "execution_count": 9,
     "metadata": {},
     "output_type": "execute_result"
    }
   ],
   "source": [
    "swetha[10]"
   ]
  },
  {
   "cell_type": "code",
   "execution_count": 11,
   "id": "fdd2fe31",
   "metadata": {},
   "outputs": [
    {
     "data": {
      "text/plain": [
       "'a'"
      ]
     },
     "execution_count": 11,
     "metadata": {},
     "output_type": "execute_result"
    }
   ],
   "source": [
    "swetha[1]"
   ]
  },
  {
   "cell_type": "code",
   "execution_count": 13,
   "id": "aacec9b7",
   "metadata": {},
   "outputs": [],
   "source": [
    "\n",
    "swetha=\"i write code\""
   ]
  },
  {
   "cell_type": "code",
   "execution_count": 14,
   "id": "9fe204ca",
   "metadata": {},
   "outputs": [
    {
     "data": {
      "text/plain": [
       "'i write co'"
      ]
     },
     "execution_count": 14,
     "metadata": {},
     "output_type": "execute_result"
    }
   ],
   "source": [
    "swetha[0:10:1]"
   ]
  },
  {
   "cell_type": "code",
   "execution_count": 15,
   "id": "51415c80",
   "metadata": {},
   "outputs": [
    {
     "data": {
      "text/plain": [
       "'iwiec'"
      ]
     },
     "execution_count": 15,
     "metadata": {},
     "output_type": "execute_result"
    }
   ],
   "source": [
    "swetha[0:10:2]"
   ]
  },
  {
   "cell_type": "code",
   "execution_count": null,
   "id": "e51d5331",
   "metadata": {},
   "outputs": [],
   "source": []
  }
 ],
 "metadata": {
  "kernelspec": {
   "display_name": "Python 3 (ipykernel)",
   "language": "python",
   "name": "python3"
  },
  "language_info": {
   "codemirror_mode": {
    "name": "ipython",
    "version": 3
   },
   "file_extension": ".py",
   "mimetype": "text/x-python",
   "name": "python",
   "nbconvert_exporter": "python",
   "pygments_lexer": "ipython3",
   "version": "3.10.9"
  }
 },
 "nbformat": 4,
 "nbformat_minor": 5
}
