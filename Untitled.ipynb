{
 "cells": [
  {
   "cell_type": "code",
   "execution_count": 1,
   "id": "cfb21927",
   "metadata": {},
   "outputs": [],
   "source": [
    "LIST=[\"SWETHA\",\"CAR\",\"BIKE\",\"MONEY\",\"COLLAGE\"]"
   ]
  },
  {
   "cell_type": "code",
   "execution_count": 2,
   "id": "501c2a47",
   "metadata": {},
   "outputs": [
    {
     "data": {
      "text/plain": [
       "['SWETHA', 'CAR', 'BIKE', 'MONEY', 'COLLAGE']"
      ]
     },
     "execution_count": 2,
     "metadata": {},
     "output_type": "execute_result"
    }
   ],
   "source": [
    "LIST"
   ]
  },
  {
   "cell_type": "code",
   "execution_count": 3,
   "id": "d607791e",
   "metadata": {},
   "outputs": [],
   "source": [
    "A=[\"A\",\"B\",\"C\",\"D\",\"E\",\"F\",\"G\",\"I\",]"
   ]
  },
  {
   "cell_type": "code",
   "execution_count": 4,
   "id": "441b6da9",
   "metadata": {},
   "outputs": [
    {
     "data": {
      "text/plain": [
       "['A', 'B', 'C', 'D', 'E', 'F', 'G', 'I']"
      ]
     },
     "execution_count": 4,
     "metadata": {},
     "output_type": "execute_result"
    }
   ],
   "source": [
    "A"
   ]
  },
  {
   "cell_type": "code",
   "execution_count": 5,
   "id": "5a2b2807",
   "metadata": {},
   "outputs": [],
   "source": [
    "B={1,2,3,4,5,6,7,8}"
   ]
  },
  {
   "cell_type": "code",
   "execution_count": 6,
   "id": "815b1f12",
   "metadata": {},
   "outputs": [],
   "source": [
    "SET={1,2,3,4,5,6,7,8,9,10}"
   ]
  },
  {
   "cell_type": "code",
   "execution_count": 7,
   "id": "c1c9d1f0",
   "metadata": {},
   "outputs": [],
   "source": [
    "DIC={\"KEY\":\"VALUE\",\"KEY1\":\"VALUE2\",\"KEY\":\"VALUE2\"}"
   ]
  },
  {
   "cell_type": "code",
   "execution_count": 49,
   "id": "5990f1e3",
   "metadata": {},
   "outputs": [],
   "source": [
    "SWETHA={\"NAME\":\"SWETHA\",\"EMAILID\":\"SWETHATARTE3@GMAIL.COM\",\"COLLAGE\":\"KMICS\",\"PLACE\":\"NARAYANGUDA\"}"
   ]
  },
  {
   "cell_type": "code",
   "execution_count": 50,
   "id": "5e4f8542",
   "metadata": {},
   "outputs": [
    {
     "data": {
      "text/plain": [
       "{'NAME': 'SWETHA',\n",
       " 'EMAILID': 'SWETHATARTE3@GMAIL.COM',\n",
       " 'COLLAGE': 'KMICS',\n",
       " 'PLACE': 'NARAYANGUDA'}"
      ]
     },
     "execution_count": 50,
     "metadata": {},
     "output_type": "execute_result"
    }
   ],
   "source": [
    "SWETHA"
   ]
  },
  {
   "cell_type": "code",
   "execution_count": 51,
   "id": "a59f6ff9",
   "metadata": {},
   "outputs": [
    {
     "data": {
      "text/plain": [
       "dict_values(['SWETHA', 'SWETHATARTE3@GMAIL.COM', 'KMICS', 'NARAYANGUDA'])"
      ]
     },
     "execution_count": 51,
     "metadata": {},
     "output_type": "execute_result"
    }
   ],
   "source": [
    "SWETHA.values()"
   ]
  },
  {
   "cell_type": "code",
   "execution_count": 52,
   "id": "4d025b02",
   "metadata": {},
   "outputs": [
    {
     "data": {
      "text/plain": [
       "dict_keys(['NAME', 'EMAILID', 'COLLAGE', 'PLACE'])"
      ]
     },
     "execution_count": 52,
     "metadata": {},
     "output_type": "execute_result"
    }
   ],
   "source": [
    "SWETHA.keys()"
   ]
  },
  {
   "cell_type": "code",
   "execution_count": 53,
   "id": "79d19300",
   "metadata": {},
   "outputs": [
    {
     "data": {
      "text/plain": [
       "<function dict.values>"
      ]
     },
     "execution_count": 53,
     "metadata": {},
     "output_type": "execute_result"
    }
   ],
   "source": [
    "SWETHA.values\n"
   ]
  },
  {
   "cell_type": "code",
   "execution_count": 54,
   "id": "c811b7a1",
   "metadata": {},
   "outputs": [
    {
     "data": {
      "text/plain": [
       "dict"
      ]
     },
     "execution_count": 54,
     "metadata": {},
     "output_type": "execute_result"
    }
   ],
   "source": [
    "type(SWETHA)"
   ]
  },
  {
   "cell_type": "code",
   "execution_count": 55,
   "id": "4edc160f",
   "metadata": {},
   "outputs": [],
   "source": [
    "SWETHA[0]=\"krishna\""
   ]
  },
  {
   "cell_type": "code",
   "execution_count": 56,
   "id": "5f8e6051",
   "metadata": {},
   "outputs": [
    {
     "data": {
      "text/plain": [
       "{'NAME': 'SWETHA',\n",
       " 'EMAILID': 'SWETHATARTE3@GMAIL.COM',\n",
       " 'COLLAGE': 'KMICS',\n",
       " 'PLACE': 'NARAYANGUDA',\n",
       " 0: 'krishna'}"
      ]
     },
     "execution_count": 56,
     "metadata": {},
     "output_type": "execute_result"
    }
   ],
   "source": [
    "SWETHA"
   ]
  },
  {
   "cell_type": "code",
   "execution_count": 57,
   "id": "b6f62fe0",
   "metadata": {},
   "outputs": [],
   "source": [
    "SWETHA[0]=1110"
   ]
  },
  {
   "cell_type": "code",
   "execution_count": 58,
   "id": "72a81f4b",
   "metadata": {},
   "outputs": [
    {
     "data": {
      "text/plain": [
       "{'NAME': 'SWETHA',\n",
       " 'EMAILID': 'SWETHATARTE3@GMAIL.COM',\n",
       " 'COLLAGE': 'KMICS',\n",
       " 'PLACE': 'NARAYANGUDA',\n",
       " 0: 1110}"
      ]
     },
     "execution_count": 58,
     "metadata": {},
     "output_type": "execute_result"
    }
   ],
   "source": [
    "SWETHA"
   ]
  },
  {
   "cell_type": "code",
   "execution_count": 59,
   "id": "8d2f43d2",
   "metadata": {},
   "outputs": [],
   "source": [
    "\n",
    "T=[\"SWETHA\",\"COLLAGE\",\"CAR\",\"BOOK\",\"BIKE\"]"
   ]
  },
  {
   "cell_type": "code",
   "execution_count": 60,
   "id": "6e7556b3",
   "metadata": {},
   "outputs": [
    {
     "data": {
      "text/plain": [
       "['SWETHA', 'COLLAGE', 'CAR', 'BOOK', 'BIKE']"
      ]
     },
     "execution_count": 60,
     "metadata": {},
     "output_type": "execute_result"
    }
   ],
   "source": [
    "T"
   ]
  },
  {
   "cell_type": "code",
   "execution_count": 61,
   "id": "cc69466e",
   "metadata": {},
   "outputs": [],
   "source": [
    "T[0]=\"RAMA\""
   ]
  },
  {
   "cell_type": "code",
   "execution_count": 67,
   "id": "558f3c04",
   "metadata": {},
   "outputs": [
    {
     "data": {
      "text/plain": [
       "['RAMA', 'COLLAGE', 'CAR', 'BOOK', 'BIKE']"
      ]
     },
     "execution_count": 67,
     "metadata": {},
     "output_type": "execute_result"
    }
   ],
   "source": [
    "T                                                              "
   ]
  },
  {
   "cell_type": "code",
   "execution_count": 68,
   "id": "829131cd",
   "metadata": {},
   "outputs": [],
   "source": [
    "f=open(\"swetha.txt\",\"w\")                               "
   ]
  },
  {
   "cell_type": "code",
   "execution_count": 69,
   "id": "6b19421b",
   "metadata": {},
   "outputs": [
    {
     "data": {
      "text/plain": [
       "63"
      ]
     },
     "execution_count": 69,
     "metadata": {},
     "output_type": "execute_result"
    }
   ],
   "source": [
    "f.write(\"this is my first file writen in jupter notebook on 1-april-2023\")"
   ]
  },
  {
   "cell_type": "code",
   "execution_count": 70,
   "id": "3ffec6eb",
   "metadata": {},
   "outputs": [],
   "source": [
    "f.close()"
   ]
  },
  {
   "cell_type": "code",
   "execution_count": null,
   "id": "d21df7b2",
   "metadata": {},
   "outputs": [],
   "source": []
  },
  {
   "cell_type": "code",
   "execution_count": null,
   "id": "856147b1",
   "metadata": {},
   "outputs": [],
   "source": []
  }
 ],
 "metadata": {
  "kernelspec": {
   "display_name": "Python 3 (ipykernel)",
   "language": "python",
   "name": "python3"
  },
  "language_info": {
   "codemirror_mode": {
    "name": "ipython",
    "version": 3
   },
   "file_extension": ".py",
   "mimetype": "text/x-python",
   "name": "python",
   "nbconvert_exporter": "python",
   "pygments_lexer": "ipython3",
   "version": "3.10.9"
  }
 },
 "nbformat": 4,
 "nbformat_minor": 5
}
