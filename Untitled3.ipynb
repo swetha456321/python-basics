{
 "cells": [
  {
   "cell_type": "markdown",
   "id": "32cbfd34",
   "metadata": {},
   "source": [
    "# boolean,conditions and list manupilation\n"
   ]
  },
  {
   "cell_type": "code",
   "execution_count": 9,
   "id": "fda340e7",
   "metadata": {},
   "outputs": [],
   "source": [
    "a=10\n",
    "b=5"
   ]
  },
  {
   "cell_type": "code",
   "execution_count": 10,
   "id": "a55684d4",
   "metadata": {},
   "outputs": [
    {
     "name": "stdout",
     "output_type": "stream",
     "text": [
      "True\n"
     ]
    }
   ],
   "source": [
    "print(a> b)"
   ]
  },
  {
   "cell_type": "code",
   "execution_count": 11,
   "id": "b4188de2",
   "metadata": {},
   "outputs": [
    {
     "name": "stdout",
     "output_type": "stream",
     "text": [
      "False\n"
     ]
    }
   ],
   "source": [
    "print(a< b)"
   ]
  },
  {
   "cell_type": "raw",
   "id": "ec8cc4a6",
   "metadata": {},
   "source": []
  },
  {
   "cell_type": "code",
   "execution_count": 12,
   "id": "bf279182",
   "metadata": {},
   "outputs": [],
   "source": [
    "car=20\n"
   ]
  },
  {
   "cell_type": "code",
   "execution_count": 13,
   "id": "d981f7c8",
   "metadata": {},
   "outputs": [],
   "source": [
    "bike=40"
   ]
  },
  {
   "cell_type": "code",
   "execution_count": 14,
   "id": "5079bf3b",
   "metadata": {},
   "outputs": [
    {
     "name": "stdout",
     "output_type": "stream",
     "text": [
      "True\n"
     ]
    }
   ],
   "source": [
    "print(bike > car)"
   ]
  },
  {
   "cell_type": "code",
   "execution_count": 15,
   "id": "e27fbd43",
   "metadata": {},
   "outputs": [],
   "source": [
    "dance=20"
   ]
  },
  {
   "cell_type": "code",
   "execution_count": 16,
   "id": "85a030ef",
   "metadata": {},
   "outputs": [],
   "source": [
    "singing=30"
   ]
  },
  {
   "cell_type": "code",
   "execution_count": 17,
   "id": "72207adf",
   "metadata": {},
   "outputs": [
    {
     "name": "stdout",
     "output_type": "stream",
     "text": [
      "True\n"
     ]
    }
   ],
   "source": [
    "print(singing > car)"
   ]
  },
  {
   "cell_type": "code",
   "execution_count": 13,
   "id": "652d5879",
   "metadata": {},
   "outputs": [],
   "source": [
    "sun=30"
   ]
  },
  {
   "cell_type": "code",
   "execution_count": 14,
   "id": "70800e9e",
   "metadata": {},
   "outputs": [],
   "source": [
    "moon=50"
   ]
  },
  {
   "cell_type": "code",
   "execution_count": 15,
   "id": "b30452e8",
   "metadata": {},
   "outputs": [
    {
     "name": "stdout",
     "output_type": "stream",
     "text": [
      "False\n"
     ]
    }
   ],
   "source": [
    "print(moon < sun)"
   ]
  },
  {
   "cell_type": "markdown",
   "id": "b7678f9f",
   "metadata": {},
   "source": [
    "# +,-,*,/,%\n"
   ]
  },
  {
   "cell_type": "code",
   "execution_count": 18,
   "id": "266aabf9",
   "metadata": {},
   "outputs": [],
   "source": [
    "a=10\n",
    "b=20"
   ]
  },
  {
   "cell_type": "code",
   "execution_count": 19,
   "id": "24d59b76",
   "metadata": {},
   "outputs": [
    {
     "data": {
      "text/plain": [
       "30"
      ]
     },
     "execution_count": 19,
     "metadata": {},
     "output_type": "execute_result"
    }
   ],
   "source": [
    "a+b"
   ]
  },
  {
   "cell_type": "code",
   "execution_count": 20,
   "id": "97c5e08b",
   "metadata": {},
   "outputs": [],
   "source": [
    "sun=20\n",
    "moon=30"
   ]
  },
  {
   "cell_type": "code",
   "execution_count": 21,
   "id": "2dcdadcc",
   "metadata": {},
   "outputs": [
    {
     "name": "stdout",
     "output_type": "stream",
     "text": [
      "50\n"
     ]
    }
   ],
   "source": [
    "print(sun+moon)"
   ]
  },
  {
   "cell_type": "code",
   "execution_count": 22,
   "id": "ac3aa3aa",
   "metadata": {},
   "outputs": [],
   "source": [
    "c=20\n",
    "d=10"
   ]
  },
  {
   "cell_type": "code",
   "execution_count": 23,
   "id": "719b2a06",
   "metadata": {},
   "outputs": [
    {
     "data": {
      "text/plain": [
       "10"
      ]
     },
     "execution_count": 23,
     "metadata": {},
     "output_type": "execute_result"
    }
   ],
   "source": [
    "c-d"
   ]
  },
  {
   "cell_type": "code",
   "execution_count": 24,
   "id": "573abebf",
   "metadata": {},
   "outputs": [
    {
     "data": {
      "text/plain": [
       "200"
      ]
     },
     "execution_count": 24,
     "metadata": {},
     "output_type": "execute_result"
    }
   ],
   "source": [
    "b*d"
   ]
  },
  {
   "cell_type": "code",
   "execution_count": 25,
   "id": "81ff317b",
   "metadata": {},
   "outputs": [
    {
     "data": {
      "text/plain": [
       "0.5"
      ]
     },
     "execution_count": 25,
     "metadata": {},
     "output_type": "execute_result"
    }
   ],
   "source": [
    "a/c"
   ]
  },
  {
   "cell_type": "code",
   "execution_count": 26,
   "id": "45da7251",
   "metadata": {},
   "outputs": [
    {
     "data": {
      "text/plain": [
       "0"
      ]
     },
     "execution_count": 26,
     "metadata": {},
     "output_type": "execute_result"
    }
   ],
   "source": [
    "d%a"
   ]
  },
  {
   "cell_type": "code",
   "execution_count": 27,
   "id": "c1971044",
   "metadata": {},
   "outputs": [
    {
     "name": "stdout",
     "output_type": "stream",
     "text": [
      "here we are adding car an pen variable\n"
     ]
    }
   ],
   "source": [
    "print(\"here we are adding car an pen variable\")"
   ]
  },
  {
   "cell_type": "code",
   "execution_count": 28,
   "id": "7513f105",
   "metadata": {},
   "outputs": [],
   "source": [
    "car=30\n",
    "pen=40"
   ]
  },
  {
   "cell_type": "code",
   "execution_count": 29,
   "id": "e62f4516",
   "metadata": {},
   "outputs": [],
   "source": [
    "book=car+pen"
   ]
  },
  {
   "cell_type": "code",
   "execution_count": 30,
   "id": "ad1af0fc",
   "metadata": {},
   "outputs": [
    {
     "name": "stdout",
     "output_type": "stream",
     "text": [
      "here we are doing concatination of car and pen: value of book is 70\n"
     ]
    }
   ],
   "source": [
    "print(\"here we are doing concatination of car and pen: value of book is\", book)"
   ]
  },
  {
   "cell_type": "code",
   "execution_count": 2,
   "id": "c326257f",
   "metadata": {},
   "outputs": [],
   "source": [
    "a=40\n",
    "car=20\n",
    "value=a+car\n",
    "value2=a-car\n",
    "value3=a*car\n",
    "value4=a/car\n",
    "value5=a*100/car # this is the percentage of a\n"
   ]
  },
  {
   "cell_type": "code",
   "execution_count": 3,
   "id": "8fc3e0f6",
   "metadata": {},
   "outputs": [
    {
     "name": "stdout",
     "output_type": "stream",
     "text": [
      "60\n"
     ]
    }
   ],
   "source": [
    "print(a+car)"
   ]
  },
  {
   "cell_type": "code",
   "execution_count": 4,
   "id": "803374fb",
   "metadata": {},
   "outputs": [
    {
     "name": "stdout",
     "output_type": "stream",
     "text": [
      "20\n"
     ]
    }
   ],
   "source": [
    "print(a-car)"
   ]
  },
  {
   "cell_type": "code",
   "execution_count": 5,
   "id": "5c04aa40",
   "metadata": {},
   "outputs": [
    {
     "name": "stdout",
     "output_type": "stream",
     "text": [
      "800\n"
     ]
    }
   ],
   "source": [
    "print(a*car)"
   ]
  },
  {
   "cell_type": "code",
   "execution_count": 7,
   "id": "4424a419",
   "metadata": {},
   "outputs": [
    {
     "name": "stdout",
     "output_type": "stream",
     "text": [
      "2.0\n"
     ]
    }
   ],
   "source": [
    "print(a/car)"
   ]
  },
  {
   "cell_type": "code",
   "execution_count": 8,
   "id": "9ade7974",
   "metadata": {},
   "outputs": [
    {
     "name": "stdout",
     "output_type": "stream",
     "text": [
      "200.0\n"
     ]
    }
   ],
   "source": [
    "print(a*100/car)"
   ]
  },
  {
   "cell_type": "markdown",
   "id": "539f14a7",
   "metadata": {},
   "source": [
    "# list manupilation"
   ]
  },
  {
   "cell_type": "code",
   "execution_count": 16,
   "id": "1fcae86a",
   "metadata": {},
   "outputs": [],
   "source": [
    "t=(1,2,3,4,5,\"swetha\")"
   ]
  },
  {
   "cell_type": "code",
   "execution_count": 17,
   "id": "ee390795",
   "metadata": {},
   "outputs": [
    {
     "data": {
      "text/plain": [
       "[1, 2, 3, 4, 5, 'swetha']"
      ]
     },
     "execution_count": 17,
     "metadata": {},
     "output_type": "execute_result"
    }
   ],
   "source": [
    "list(t)"
   ]
  },
  {
   "cell_type": "code",
   "execution_count": 18,
   "id": "2e477fdc",
   "metadata": {},
   "outputs": [],
   "source": [
    "b=list(t)"
   ]
  },
  {
   "cell_type": "code",
   "execution_count": 19,
   "id": "f07881d0",
   "metadata": {},
   "outputs": [
    {
     "data": {
      "text/plain": [
       "list"
      ]
     },
     "execution_count": 19,
     "metadata": {},
     "output_type": "execute_result"
    }
   ],
   "source": [
    "type(b)"
   ]
  },
  {
   "cell_type": "code",
   "execution_count": 20,
   "id": "9adbc48b",
   "metadata": {},
   "outputs": [],
   "source": [
    "b={1,2,3,4,\"swetha\",\"krishna\"}"
   ]
  },
  {
   "cell_type": "code",
   "execution_count": 21,
   "id": "69d68ac4",
   "metadata": {},
   "outputs": [
    {
     "data": {
      "text/plain": [
       "set"
      ]
     },
     "execution_count": 21,
     "metadata": {},
     "output_type": "execute_result"
    }
   ],
   "source": [
    "type(b)"
   ]
  },
  {
   "cell_type": "code",
   "execution_count": 24,
   "id": "708b4270",
   "metadata": {},
   "outputs": [
    {
     "data": {
      "text/plain": [
       "['krishna', 1, 2, 3, 4, 'swetha']"
      ]
     },
     "execution_count": 24,
     "metadata": {},
     "output_type": "execute_result"
    }
   ],
   "source": [
    "list(b)"
   ]
  },
  {
   "cell_type": "code",
   "execution_count": 25,
   "id": "d01a1c69",
   "metadata": {},
   "outputs": [],
   "source": [
    "s1=list(b)"
   ]
  },
  {
   "cell_type": "code",
   "execution_count": 26,
   "id": "a858c596",
   "metadata": {},
   "outputs": [
    {
     "name": "stdout",
     "output_type": "stream",
     "text": [
      "{'krishna', 1, 2, 3, 4, 'swetha'}\n"
     ]
    }
   ],
   "source": [
    "print(b)"
   ]
  },
  {
   "cell_type": "code",
   "execution_count": null,
   "id": "e12b0ddc",
   "metadata": {},
   "outputs": [],
   "source": []
  }
 ],
 "metadata": {
  "kernelspec": {
   "display_name": "Python 3 (ipykernel)",
   "language": "python",
   "name": "python3"
  },
  "language_info": {
   "codemirror_mode": {
    "name": "ipython",
    "version": 3
   },
   "file_extension": ".py",
   "mimetype": "text/x-python",
   "name": "python",
   "nbconvert_exporter": "python",
   "pygments_lexer": "ipython3",
   "version": "3.10.9"
  }
 },
 "nbformat": 4,
 "nbformat_minor": 5
}
